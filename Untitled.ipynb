{
 "cells": [
  {
   "cell_type": "code",
   "execution_count": 4,
   "metadata": {},
   "outputs": [
    {
     "name": "stdout",
     "output_type": "stream",
     "text": [
      "Please Enter Your name: ahmed\n",
      "Please Enter Your Age: 20\n",
      "Please Enter Your name: ali\n",
      "Please Enter Your Age: 30\n",
      "Please Enter Your name: samy\n",
      "Please Enter Your Age: 20\n"
     ]
    }
   ],
   "source": [
    "name1=input(\"Please Enter Your name: \")\n",
    "age1=float(input(\"Please Enter Your Age: \"))\n",
    "\n",
    "name2=input(\"Please Enter Your name: \")\n",
    "age2=float(input(\"Please Enter Your Age: \"))\n",
    "\n",
    "name3=input(\"Please Enter Your name: \")\n",
    "age3=float(input(\"Please Enter Your Age: \"))\n",
    "\n",
    "\n",
    "d={\"Name\":[name1,name2,name3],\"Age\":[age1,age2,age3]}"
   ]
  },
  {
   "cell_type": "code",
   "execution_count": 3,
   "metadata": {},
   "outputs": [
    {
     "name": "stdout",
     "output_type": "stream",
     "text": [
      "ahmed : 25.0\n",
      "abdo : 24.0\n"
     ]
    }
   ],
   "source": [
    "print(d[\"Name\"][0],\":\",d[\"Age\"][0])\n",
    "print(d[\"Name\"][1],\":\",d[\"Age\"][1])"
   ]
  },
  {
   "cell_type": "code",
   "execution_count": 6,
   "metadata": {},
   "outputs": [
    {
     "data": {
      "text/plain": [
       "'ahmed ali'"
      ]
     },
     "execution_count": 6,
     "metadata": {},
     "output_type": "execute_result"
    }
   ],
   "source": [
    "a=\"ahmed\"\n",
    "b=\" ali\"\n",
    "a+b"
   ]
  },
  {
   "cell_type": "code",
   "execution_count": 11,
   "metadata": {},
   "outputs": [
    {
     "name": "stdout",
     "output_type": "stream",
     "text": [
      "age 25\n"
     ]
    },
    {
     "data": {
      "text/plain": [
       "'25ahmed'"
      ]
     },
     "execution_count": 11,
     "metadata": {},
     "output_type": "execute_result"
    }
   ],
   "source": [
    "d=int(input(\"age \"))\n",
    "a=str(d)\n",
    "b='ahmed'\n",
    "a+b"
   ]
  },
  {
   "cell_type": "code",
   "execution_count": 14,
   "metadata": {},
   "outputs": [
    {
     "name": "stdout",
     "output_type": "stream",
     "text": [
      "my name is : ali my age is 25\n"
     ]
    }
   ],
   "source": [
    "print(\"my name is :\",\"ali\",\"my age is \" + str(25))"
   ]
  },
  {
   "cell_type": "code",
   "execution_count": 20,
   "metadata": {},
   "outputs": [],
   "source": [
    "a=\"ahmed\"\n",
    "b=20"
   ]
  },
  {
   "cell_type": "code",
   "execution_count": 23,
   "metadata": {},
   "outputs": [
    {
     "name": "stdout",
     "output_type": "stream",
     "text": [
      "my name is : ahmed20 \n"
     ]
    }
   ],
   "source": [
    "print(\"my name is : {} \".format(a+str(b)))"
   ]
  },
  {
   "cell_type": "code",
   "execution_count": 24,
   "metadata": {},
   "outputs": [
    {
     "data": {
      "text/plain": [
       "int"
      ]
     },
     "execution_count": 24,
     "metadata": {},
     "output_type": "execute_result"
    }
   ],
   "source": [
    "type(b)"
   ]
  },
  {
   "cell_type": "code",
   "execution_count": 28,
   "metadata": {},
   "outputs": [
    {
     "data": {
      "text/plain": [
       "\"hello?i'm?ali\""
      ]
     },
     "execution_count": 28,
     "metadata": {},
     "output_type": "execute_result"
    }
   ],
   "source": [
    "l=[\"hello\",\"i'm\",\"ali\"]\n",
    "\"?\".join(l)"
   ]
  },
  {
   "cell_type": "code",
   "execution_count": 29,
   "metadata": {},
   "outputs": [
    {
     "data": {
      "text/plain": [
       "['hello', \"i'm\", 'ali']"
      ]
     },
     "execution_count": 29,
     "metadata": {},
     "output_type": "execute_result"
    }
   ],
   "source": [
    "s=\"hello?i'm?ali\"\n",
    "s.split(\"?\")"
   ]
  },
  {
   "cell_type": "code",
   "execution_count": 35,
   "metadata": {},
   "outputs": [
    {
     "data": {
      "text/plain": [
       "[0, 1, 2, 3, 4, 5, 6, 7, 8, 9]"
      ]
     },
     "execution_count": 35,
     "metadata": {},
     "output_type": "execute_result"
    }
   ],
   "source": [
    "list(range(0,10))"
   ]
  },
  {
   "cell_type": "code",
   "execution_count": 32,
   "metadata": {},
   "outputs": [],
   "source": [
    "s='ahmed'"
   ]
  },
  {
   "cell_type": "code",
   "execution_count": 50,
   "metadata": {},
   "outputs": [],
   "source": [
    "a=\"ahmed\"\n",
    "b=3"
   ]
  },
  {
   "cell_type": "code",
   "execution_count": 51,
   "metadata": {},
   "outputs": [
    {
     "name": "stdout",
     "output_type": "stream",
     "text": [
      "a is equal 5 and b is equal 6\n"
     ]
    }
   ],
   "source": [
    "if a==\"ahmed\" and b!=6:\n",
    "    print(\"a is equal 5 and b is equal 6\") \n",
    "elif a==6 or b==5:\n",
    "    print(\" condition 2\")\n",
    "elif a>=6 or b==3:\n",
    "    print(\" condition3\")\n",
    "\n",
    "elif a<=6:\n",
    "    print(\" condition3 \")\n",
    "    \n",
    "else:\n",
    "    print(\"a is not a number\")"
   ]
  },
  {
   "cell_type": "code",
   "execution_count": 53,
   "metadata": {},
   "outputs": [
    {
     "name": "stdout",
     "output_type": "stream",
     "text": [
      "element exists in list1\n"
     ]
    }
   ],
   "source": [
    "l=[10,20,30,40]\n",
    "if 10 in l:\n",
    "    print(\"element exists in list1\")\n",
    "elif 20 in l:\n",
    "    print(\"elemen ecists in list2\")"
   ]
  },
  {
   "cell_type": "code",
   "execution_count": 55,
   "metadata": {},
   "outputs": [
    {
     "name": "stdout",
     "output_type": "stream",
     "text": [
      "element exists in list1\n"
     ]
    }
   ],
   "source": [
    "l=[10,20,30,40]\n",
    "if (10 in l) and (20 in l):\n",
    "    print(\"element exists in list1\")\n"
   ]
  },
  {
   "cell_type": "code",
   "execution_count": 59,
   "metadata": {},
   "outputs": [
    {
     "name": "stdout",
     "output_type": "stream",
     "text": [
      "nothing\n"
     ]
    }
   ],
   "source": [
    "l=[(10,20),30,40]\n",
    "if (10,20)in l:\n",
    "    print(\"element exists in list1\")\n",
    "else:\n",
    "    print(\"nothing\")\n"
   ]
  },
  {
   "cell_type": "code",
   "execution_count": 65,
   "metadata": {},
   "outputs": [
    {
     "name": "stdout",
     "output_type": "stream",
     "text": [
      "nothing\n"
     ]
    }
   ],
   "source": [
    "l=[10,20,30,40]\n",
    "if 10 and 50 in l:\n",
    "    print(\"element exists in list1\")\n",
    "else:\n",
    "    print(\"nothing\")\n"
   ]
  },
  {
   "cell_type": "code",
   "execution_count": 69,
   "metadata": {},
   "outputs": [
    {
     "name": "stdout",
     "output_type": "stream",
     "text": [
      "nah!\n"
     ]
    }
   ],
   "source": [
    "a=\"ahmed\"\n",
    "if (\"A\" in a) and (\"h\" in a):\n",
    "    print(\"gotcha!\")\n",
    "else:\n",
    "    print(\"nah!\")"
   ]
  },
  {
   "cell_type": "code",
   "execution_count": 73,
   "metadata": {},
   "outputs": [
    {
     "name": "stdout",
     "output_type": "stream",
     "text": [
      "0 10\n",
      "1 20\n",
      "2 30\n",
      "3 50\n"
     ]
    }
   ],
   "source": [
    "l=[10,20,30,50]\n",
    "for i,b in enumerate(l):\n",
    "    print(i,b)"
   ]
  },
  {
   "cell_type": "code",
   "execution_count": 74,
   "metadata": {},
   "outputs": [
    {
     "name": "stdout",
     "output_type": "stream",
     "text": [
      "0 a\n",
      "1 h\n",
      "2 m\n",
      "3 e\n",
      "4 d\n",
      "5  \n",
      "6 a\n",
      "7 n\n",
      "8 d\n",
      "9  \n",
      "10 a\n",
      "11 l\n",
      "12 i\n"
     ]
    }
   ],
   "source": [
    "a=\"ahmed and ali\"\n",
    "for i,b in enumerate(a):\n",
    "    print(i,b)"
   ]
  },
  {
   "cell_type": "code",
   "execution_count": 82,
   "metadata": {},
   "outputs": [
    {
     "name": "stdout",
     "output_type": "stream",
     "text": [
      "0\n",
      "1\n"
     ]
    }
   ],
   "source": [
    "a=[50,20,30,100]\n",
    "for i,b in enumerate(a):\n",
    "    if b==20:\n",
    "        print(i)\n",
    "        break\n",
    "    else: \n",
    "        print(i)"
   ]
  },
  {
   "cell_type": "code",
   "execution_count": 88,
   "metadata": {},
   "outputs": [
    {
     "name": "stdout",
     "output_type": "stream",
     "text": [
      "-1\n",
      "1\n",
      "1\n"
     ]
    }
   ],
   "source": [
    "l=[\"Ali\",\"mahmoud\",\"samy\"]\n",
    "for i,d in enumerate(l):\n",
    "    print(d.find(\"a\"))"
   ]
  },
  {
   "cell_type": "code",
   "execution_count": 92,
   "metadata": {},
   "outputs": [],
   "source": [
    "d={\"name\":\"ahmed\",\"age\":25}"
   ]
  },
  {
   "cell_type": "code",
   "execution_count": null,
   "metadata": {},
   "outputs": [],
   "source": []
  },
  {
   "cell_type": "code",
   "execution_count": 93,
   "metadata": {},
   "outputs": [],
   "source": [
    "d[\"x\"]=50"
   ]
  },
  {
   "cell_type": "code",
   "execution_count": 94,
   "metadata": {},
   "outputs": [
    {
     "data": {
      "text/plain": [
       "{'name': 'ahmed', 'age': 25, 'x': 50}"
      ]
     },
     "execution_count": 94,
     "metadata": {},
     "output_type": "execute_result"
    }
   ],
   "source": [
    "d"
   ]
  },
  {
   "cell_type": "code",
   "execution_count": 95,
   "metadata": {},
   "outputs": [],
   "source": [
    "d[\"x\"]=40"
   ]
  },
  {
   "cell_type": "code",
   "execution_count": 96,
   "metadata": {},
   "outputs": [
    {
     "data": {
      "text/plain": [
       "{'name': 'ahmed', 'age': 25, 'x': 40}"
      ]
     },
     "execution_count": 96,
     "metadata": {},
     "output_type": "execute_result"
    }
   ],
   "source": [
    "d"
   ]
  },
  {
   "cell_type": "code",
   "execution_count": 111,
   "metadata": {},
   "outputs": [
    {
     "name": "stdout",
     "output_type": "stream",
     "text": [
      "0\n",
      "v0\n",
      "b0\n",
      "1\n",
      "v1\n",
      "b1\n",
      "2\n",
      "v2\n",
      "b2\n"
     ]
    }
   ],
   "source": [
    "d={}\n",
    "for i in range(0,3):\n",
    "    print(i)\n",
    "    dd=input()\n",
    "    vv=input()\n",
    "    d[dd]=vv"
   ]
  },
  {
   "cell_type": "code",
   "execution_count": 117,
   "metadata": {},
   "outputs": [
    {
     "name": "stdout",
     "output_type": "stream",
     "text": [
      "v0 b0\n",
      "v1 b1\n",
      "v2 b2\n"
     ]
    }
   ],
   "source": [
    "for k,v in d.items():\n",
    "    print(k,v)"
   ]
  },
  {
   "cell_type": "code",
   "execution_count": null,
   "metadata": {},
   "outputs": [],
   "source": []
  },
  {
   "cell_type": "code",
   "execution_count": null,
   "metadata": {},
   "outputs": [],
   "source": []
  }
 ],
 "metadata": {
  "kernelspec": {
   "display_name": "Python 3",
   "language": "python",
   "name": "python3"
  },
  "language_info": {
   "codemirror_mode": {
    "name": "ipython",
    "version": 3
   },
   "file_extension": ".py",
   "mimetype": "text/x-python",
   "name": "python",
   "nbconvert_exporter": "python",
   "pygments_lexer": "ipython3",
   "version": "3.6.8"
  }
 },
 "nbformat": 4,
 "nbformat_minor": 2
}
