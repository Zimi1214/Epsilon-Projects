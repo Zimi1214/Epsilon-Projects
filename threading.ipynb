{
 "cells": [
  {
   "cell_type": "code",
   "execution_count": 1,
   "metadata": {},
   "outputs": [
    {
     "name": "stdout",
     "output_type": "stream",
     "text": [
      "Hello Dear Ahmed. How are you?\n",
      "Hello Dear Ali. How are you?\n",
      "Hello Dear samy. How are you?\n",
      "Hello Dear abdo. How are you?\n",
      "Hello Dear abdullah. How are you?\n",
      "Hey! Ahmed, your id is 1.\n",
      "Hey! Ali, your id is 2.\n",
      "Hey! samy, your id is 3.\n",
      "Hey! abdo, your id is 4.\n",
      "Hey! abdullah, your id is 5.\n",
      "Woaahh!! My work is finished..\n",
      "I took 5.009751796722412\n"
     ]
    }
   ],
   "source": [
    "import time\n",
    "\n",
    "#First Method\n",
    "def greet_them(people):\n",
    "    for person in people:\n",
    "        print(\"Hello Dear \" + person + \". How are you?\")\n",
    "        time.sleep(0.5) #It will stop the loop for 0.5 seconds, and our process will be in the idle state\n",
    "\n",
    "#Second Method\n",
    "def assign_id(people):\n",
    "    i = 1\n",
    "    for person in people:\n",
    "        print(\"Hey! {}, your id is {}.\".format(person, i))\n",
    "        i += 1\n",
    "        time.sleep(0.5)\n",
    "\n",
    "\n",
    "people = ['Ahmed', 'Ali', 'samy', 'abdo', 'abdullah']\n",
    "\n",
    "t = time.time()\n",
    "\n",
    "greet_them(people)\n",
    "assign_id(people)\n",
    "\n",
    "print(\"Woaahh!! My work is finished..\")\n",
    "print(\"I took \" + str(time.time() - t))\n",
    "####################################################################\n"
   ]
  },
  {
   "cell_type": "code",
   "execution_count": 5,
   "metadata": {},
   "outputs": [
    {
     "name": "stdout",
     "output_type": "stream",
     "text": [
      "Hello Dear Ahmed. How are you?\n",
      "Hey! Ahmed, your id is 1.\n",
      "Hello Dear Ali. How are you?\n",
      "Hey! Ali, your id is 2.\n",
      "Hello Dear samy. How are you?\n",
      "Hey! samy, your id is 3.\n",
      "Hello Dear abdo. How are you?\n",
      "Hey! abdo, your id is 4.\n",
      "Hello Dear abdullah. How are you?\n",
      "Hey! abdullah, your id is 5.\n",
      "Woaahh!! My work is finished..\n",
      "I took 2.511756420135498\n"
     ]
    }
   ],
   "source": [
    "import time\n",
    "import threading\n",
    "\n",
    "# Python Threading Example for Beginners\n",
    "# First Method\n",
    "def greet_them(people):\n",
    "    for person in people:\n",
    "        print(\"Hello Dear \" + person + \". How are you?\")\n",
    "        time.sleep(0.5)\n",
    "\n",
    "\n",
    "# Second Method\n",
    "def assign_id(people):\n",
    "    i = 1\n",
    "    for person in people:\n",
    "        print(\"Hey! {}, your id is {}.\".format(person, i))\n",
    "        i += 1\n",
    "        time.sleep(0.5)\n",
    "\n",
    "\n",
    "people = ['Ahmed', 'Ali', 'samy', 'abdo', 'abdullah']\n",
    "\n",
    "t = time.time()\n",
    "\n",
    "#Created the Threads\n",
    "t1 = threading.Thread(target=greet_them, args=(people,))\n",
    "t2 = threading.Thread(target=assign_id, args=(people,))\n",
    "\n",
    "#Started the threads\n",
    "t1.start()\n",
    "t2.start()\n",
    "\n",
    "#Joined the threads\n",
    "t1.join()\n",
    "t2.join()\n",
    "\n",
    "print(\"Woaahh!! My work is finished..\")\n",
    "print(\"I took \" + str(time.time() - t))\n"
   ]
  },
  {
   "cell_type": "code",
   "execution_count": null,
   "metadata": {},
   "outputs": [],
   "source": []
  }
 ],
 "metadata": {
  "kernelspec": {
   "display_name": "Python 3",
   "language": "python",
   "name": "python3"
  },
  "language_info": {
   "codemirror_mode": {
    "name": "ipython",
    "version": 3
   },
   "file_extension": ".py",
   "mimetype": "text/x-python",
   "name": "python",
   "nbconvert_exporter": "python",
   "pygments_lexer": "ipython3",
   "version": "3.6.9"
  }
 },
 "nbformat": 4,
 "nbformat_minor": 2
}
