{
 "cells": [
  {
   "cell_type": "code",
   "execution_count": 20,
   "metadata": {},
   "outputs": [],
   "source": [
    "import sqlite3"
   ]
  },
  {
   "cell_type": "code",
   "execution_count": 23,
   "metadata": {},
   "outputs": [],
   "source": [
    "def create_table():\n",
    "    conn = sqlite3.connect(\"test.sqlite\")\n",
    "    cur = conn.cursor()\n",
    "    cur.execute(\"CREATE TABLE test_table(id int auto_increment primary key ,name TEXT,age int not null, address varchar(40),brief char(20))\")\n",
    "\n",
    "    print(\"DB created\")\n",
    "    conn.commit()\n",
    "    conn.close()"
   ]
  },
  {
   "cell_type": "code",
   "execution_count": 24,
   "metadata": {},
   "outputs": [
    {
     "name": "stdout",
     "output_type": "stream",
     "text": [
      "DB created\n"
     ]
    }
   ],
   "source": [
    "create_table()"
   ]
  },
  {
   "cell_type": "code",
   "execution_count": null,
   "metadata": {},
   "outputs": [],
   "source": []
  },
  {
   "cell_type": "code",
   "execution_count": 27,
   "metadata": {},
   "outputs": [],
   "source": [
    "def insert(ID,name,age,address,brief):\n",
    "    conn=sqlite3.connect(\"test.sqlite\")\n",
    "    cur = conn.cursor()\n",
    "    cur.execute(\"INSERT INTO test_table (id,name,age,brief,address) VALUES (?,?,?,?,?)\",(ID,name,age,brief,address))\n",
    "    conn.commit()\n",
    "    conn.close()"
   ]
  },
  {
   "cell_type": "code",
   "execution_count": 28,
   "metadata": {},
   "outputs": [],
   "source": [
    "insert(1,\"abdo\",24,\"Egypt\",'Data scientist')"
   ]
  },
  {
   "cell_type": "code",
   "execution_count": 8,
   "metadata": {},
   "outputs": [],
   "source": [
    "insert(2,\"mohamed\",28,\"Egypt\",'Data analyst')"
   ]
  },
  {
   "cell_type": "code",
   "execution_count": null,
   "metadata": {},
   "outputs": [],
   "source": []
  },
  {
   "cell_type": "code",
   "execution_count": 9,
   "metadata": {},
   "outputs": [],
   "source": [
    "insert(3,\"ali\",28,\"Egypt\",'DBA')"
   ]
  },
  {
   "cell_type": "code",
   "execution_count": 29,
   "metadata": {},
   "outputs": [],
   "source": [
    "def view():\n",
    "    conn = sqlite3.connect(\"test.sqlite\")\n",
    "    cur = conn.cursor()\n",
    "    cur.execute(\"SELECT * FROM test_table\")\n",
    "    rows = cur.fetchall()\n",
    "    conn.close()\n",
    "    print(rows)\n",
    "    for row in rows:\n",
    "        print(row)\n"
   ]
  },
  {
   "cell_type": "code",
   "execution_count": 30,
   "metadata": {},
   "outputs": [
    {
     "name": "stdout",
     "output_type": "stream",
     "text": [
      "[(1, 'abdo', 24, 'Egypt', 'Data scientist')]\n",
      "(1, 'abdo', 24, 'Egypt', 'Data scientist')\n"
     ]
    }
   ],
   "source": [
    "view()"
   ]
  },
  {
   "cell_type": "code",
   "execution_count": 16,
   "metadata": {},
   "outputs": [],
   "source": [
    "def select():\n",
    "    conn = sqlite3.connect('test.sqlite')\n",
    "    cursor = conn.cursor()\n",
    "    for row in cursor.execute(\"SELECT id, name from test_table\"):\n",
    "        print(row)\n",
    "        print(\"ID = \", row[0])\n",
    "        print(\"NAME = \", row[1], \"\\n\")\n",
    "    conn.commit()\n",
    "    conn.close()"
   ]
  },
  {
   "cell_type": "code",
   "execution_count": 17,
   "metadata": {},
   "outputs": [
    {
     "name": "stdout",
     "output_type": "stream",
     "text": [
      "(1, 'abdo')\n",
      "ID =  1\n",
      "NAME =  abdo \n",
      "\n",
      "(2, 'mohamed')\n",
      "ID =  2\n",
      "NAME =  mohamed \n",
      "\n",
      "(3, 'ali')\n",
      "ID =  3\n",
      "NAME =  ali \n",
      "\n"
     ]
    }
   ],
   "source": [
    "select()"
   ]
  },
  {
   "cell_type": "code",
   "execution_count": 103,
   "metadata": {},
   "outputs": [],
   "source": [
    "def update_row():\n",
    "    conn = sqlite3.connect('test.sqlite')\n",
    "    cursor = conn.cursor()\n",
    "    conn.execute(\"UPDATE test_table set brief = 'senior data scientist' where ID = 1\")\n",
    "    conn.commit()\n",
    "    for row in cursor.execute(\"SELECT id, name, brief from test_table\"):\n",
    "        print(\"ID = \", row[0])\n",
    "        print(\"NAME = \", row[1])\n",
    "        print(\"brief = \", row[2], \"\\n\")\n",
    "    conn.commit()\n",
    "    conn.close()"
   ]
  },
  {
   "cell_type": "code",
   "execution_count": 104,
   "metadata": {},
   "outputs": [
    {
     "name": "stdout",
     "output_type": "stream",
     "text": [
      "ID =  1\n",
      "NAME =  abdo\n",
      "brief =  senior data scientist \n",
      "\n",
      "ID =  2\n",
      "NAME =  mohamed\n",
      "brief =  Data analyst \n",
      "\n",
      "ID =  3\n",
      "NAME =  ali\n",
      "brief =  DBA \n",
      "\n"
     ]
    }
   ],
   "source": [
    "update_row()"
   ]
  },
  {
   "cell_type": "code",
   "execution_count": 106,
   "metadata": {},
   "outputs": [],
   "source": [
    "def delete_row():\n",
    "    conn = sqlite3.connect('test.sqlite')\n",
    "    cursor = conn.cursor()\n",
    "    conn.execute(\"DELETE from  test_table where ID = 2\")\n",
    "    conn.commit()\n",
    "    for row in cursor.execute(\"SELECT id, name from test_table\"):\n",
    "        print(\"ID = \", row[0])\n",
    "        print(\"NAME = \", row[1])\n",
    "    conn.commit()\n",
    "    conn.close()"
   ]
  },
  {
   "cell_type": "code",
   "execution_count": 107,
   "metadata": {},
   "outputs": [
    {
     "name": "stdout",
     "output_type": "stream",
     "text": [
      "ID =  1\n",
      "NAME =  abdo\n",
      "ID =  3\n",
      "NAME =  ali\n"
     ]
    }
   ],
   "source": [
    "delete_row()"
   ]
  },
  {
   "cell_type": "code",
   "execution_count": null,
   "metadata": {},
   "outputs": [],
   "source": []
  }
 ],
 "metadata": {
  "kernelspec": {
   "display_name": "Python 3",
   "language": "python",
   "name": "python3"
  },
  "language_info": {
   "codemirror_mode": {
    "name": "ipython",
    "version": 3
   },
   "file_extension": ".py",
   "mimetype": "text/x-python",
   "name": "python",
   "nbconvert_exporter": "python",
   "pygments_lexer": "ipython3",
   "version": "3.6.9"
  }
 },
 "nbformat": 4,
 "nbformat_minor": 2
}
